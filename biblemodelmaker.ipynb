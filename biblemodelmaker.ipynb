{
  "nbformat": 4,
  "nbformat_minor": 0,
  "metadata": {
    "colab": {
      "name": "biblemodelmaker.ipynb",
      "provenance": [],
      "collapsed_sections": []
    },
    "kernelspec": {
      "name": "python3",
      "display_name": "Python 3"
    },
    "accelerator": "GPU"
  },
  "cells": [
    {
      "cell_type": "markdown",
      "metadata": {
        "id": "u_1cMNm-dv_V",
        "colab_type": "text"
      },
      "source": [
        "Imports"
      ]
    },
    {
      "cell_type": "code",
      "metadata": {
        "id": "pOjB9Vh1iD2w",
        "colab_type": "code",
        "colab": {}
      },
      "source": [
        "import numpy as np\n",
        "import pandas as pd\n",
        "import matplotlib.pyplot as plt\n",
        "import tensorflow as tf\n",
        "import joblib"
      ],
      "execution_count": 0,
      "outputs": []
    },
    {
      "cell_type": "markdown",
      "metadata": {
        "id": "Gp7DlPxydzMD",
        "colab_type": "text"
      },
      "source": [
        "path to source"
      ]
    },
    {
      "cell_type": "code",
      "metadata": {
        "id": "nbuiI6MSiENl",
        "colab_type": "code",
        "colab": {}
      },
      "source": [
        "path = '/content/drive/My Drive/DATA/10.txt'"
      ],
      "execution_count": 0,
      "outputs": []
    },
    {
      "cell_type": "code",
      "metadata": {
        "id": "e8D6-UUpH14Y",
        "colab_type": "code",
        "colab": {}
      },
      "source": [
        "text = open(path,'r').read()"
      ],
      "execution_count": 0,
      "outputs": []
    },
    {
      "cell_type": "markdown",
      "metadata": {
        "id": "9kPg_frZd4eK",
        "colab_type": "text"
      },
      "source": [
        "Break out vocab"
      ]
    },
    {
      "cell_type": "code",
      "metadata": {
        "id": "NMLDIWEpH5dk",
        "colab_type": "code",
        "colab": {}
      },
      "source": [
        "vocab = sorted(set(text))"
      ],
      "execution_count": 0,
      "outputs": []
    },
    {
      "cell_type": "markdown",
      "metadata": {
        "id": "JRN5PfCZeFpB",
        "colab_type": "text"
      },
      "source": [
        "index letters"
      ]
    },
    {
      "cell_type": "code",
      "metadata": {
        "id": "REs4YQnRH8JT",
        "colab_type": "code",
        "colab": {}
      },
      "source": [
        "char_to_ind = {char:ind for ind,char in enumerate(vocab)}"
      ],
      "execution_count": 0,
      "outputs": []
    },
    {
      "cell_type": "code",
      "metadata": {
        "id": "jGTBib8zIK8Y",
        "colab_type": "code",
        "colab": {}
      },
      "source": [
        "ind_to_char = np.array(vocab)"
      ],
      "execution_count": 0,
      "outputs": []
    },
    {
      "cell_type": "code",
      "metadata": {
        "id": "lakXk12ZIWou",
        "colab_type": "code",
        "colab": {}
      },
      "source": [
        "encoded_txt = np.array([char_to_ind[c] for c in text])"
      ],
      "execution_count": 0,
      "outputs": []
    },
    {
      "cell_type": "markdown",
      "metadata": {
        "id": "K_gw3tM_eRGo",
        "colab_type": "text"
      },
      "source": [
        "check source"
      ]
    },
    {
      "cell_type": "code",
      "metadata": {
        "id": "515l-LFZIims",
        "colab_type": "code",
        "outputId": "821209a7-4482-4556-8ded-d485db2d14ea",
        "colab": {
          "base_uri": "https://localhost:8080/",
          "height": 833
        }
      },
      "source": [
        "print(text[1000:2000])"
      ],
      "execution_count": 8,
      "outputs": [
        {
          "output_type": "stream",
          "text": [
            " BIBLE ***\n",
            "\n",
            "\n",
            "\n",
            "\n",
            "\n",
            "\n",
            "\n",
            "\n",
            "\n",
            "\n",
            "\n",
            "\n",
            "\n",
            "\n",
            "The Old Testament of the King James Version of the Bible\n",
            "\n",
            "\n",
            "\n",
            "\n",
            "The First Book of Moses:  Called Genesis\n",
            "\n",
            "\n",
            "1:1 In the beginning God created the heaven and the earth.\n",
            "\n",
            "1:2 And the earth was without form, and void; and darkness was upon\n",
            "the face of the deep. And the Spirit of God moved upon the face of the\n",
            "waters.\n",
            "\n",
            "1:3 And God said, Let there be light: and there was light.\n",
            "\n",
            "1:4 And God saw the light, that it was good: and God divided the light\n",
            "from the darkness.\n",
            "\n",
            "1:5 And God called the light Day, and the darkness he called Night.\n",
            "And the evening and the morning were the first day.\n",
            "\n",
            "1:6 And God said, Let there be a firmament in the midst of the waters,\n",
            "and let it divide the waters from the waters.\n",
            "\n",
            "1:7 And God made the firmament, and divided the waters which were\n",
            "under the firmament from the waters which were above the firmament:\n",
            "and it was so.\n",
            "\n",
            "1:8 And God called the firmament Heaven. And the evening and the\n",
            "morning were the second day.\n",
            "\n",
            "1:9 And God said, Let the wa\n"
          ],
          "name": "stdout"
        }
      ]
    },
    {
      "cell_type": "code",
      "metadata": {
        "id": "jtTPr2pZIrFy",
        "colab_type": "code",
        "colab": {}
      },
      "source": [
        "lines = '''1:2 And the earth was without form, and void; and darkness was upon\n",
        "the face of the deep. And the Spirit of God moved upon the face of the\n",
        "waters.'''\n",
        "\n"
      ],
      "execution_count": 0,
      "outputs": []
    },
    {
      "cell_type": "code",
      "metadata": {
        "id": "6RjLnJBEJGoR",
        "colab_type": "code",
        "outputId": "5ff17d1e-7d70-4999-d010-9ccf489d5a5c",
        "colab": {
          "base_uri": "https://localhost:8080/",
          "height": 34
        }
      },
      "source": [
        "len(lines)"
      ],
      "execution_count": 10,
      "outputs": [
        {
          "output_type": "execute_result",
          "data": {
            "text/plain": [
              "146"
            ]
          },
          "metadata": {
            "tags": []
          },
          "execution_count": 10
        }
      ]
    },
    {
      "cell_type": "markdown",
      "metadata": {
        "id": "sq3V1VgAeZLu",
        "colab_type": "text"
      },
      "source": [
        "format for training"
      ]
    },
    {
      "cell_type": "code",
      "metadata": {
        "id": "deJQHP1YJIat",
        "colab_type": "code",
        "colab": {}
      },
      "source": [
        "seq_len = 146"
      ],
      "execution_count": 0,
      "outputs": []
    },
    {
      "cell_type": "code",
      "metadata": {
        "id": "Vu4qLmb1JNAs",
        "colab_type": "code",
        "colab": {}
      },
      "source": [
        "total_num_seq = len(text) // (seq_len+1)"
      ],
      "execution_count": 0,
      "outputs": []
    },
    {
      "cell_type": "code",
      "metadata": {
        "id": "icSjL-XvJPNE",
        "colab_type": "code",
        "colab": {}
      },
      "source": [
        "char_dataset = tf.data.Dataset.from_tensor_slices(encoded_txt)"
      ],
      "execution_count": 0,
      "outputs": []
    },
    {
      "cell_type": "code",
      "metadata": {
        "id": "rpwp_n63JQzT",
        "colab_type": "code",
        "colab": {}
      },
      "source": [
        "sequences = char_dataset.batch(seq_len+1,drop_remainder=True)"
      ],
      "execution_count": 0,
      "outputs": []
    },
    {
      "cell_type": "code",
      "metadata": {
        "id": "y16xp5R7JXZp",
        "colab_type": "code",
        "colab": {}
      },
      "source": [
        "def create_seq_targets(seq):\n",
        "  input_txt = seq[:-1]\n",
        "  target_txt = seq[1:]\n",
        "  return input_txt,target_txt"
      ],
      "execution_count": 0,
      "outputs": []
    },
    {
      "cell_type": "code",
      "metadata": {
        "id": "Rp15pqizJZDC",
        "colab_type": "code",
        "colab": {}
      },
      "source": [
        "dataset = sequences.map(create_seq_targets)"
      ],
      "execution_count": 0,
      "outputs": []
    },
    {
      "cell_type": "code",
      "metadata": {
        "id": "IrVs9n7IJaqZ",
        "colab_type": "code",
        "outputId": "1fa4ea81-c710-45c3-9121-c4420ebd9002",
        "colab": {
          "base_uri": "https://localhost:8080/",
          "height": 459
        }
      },
      "source": [
        "for input_txt,target_txt in dataset.take(1):\n",
        "  print(input_txt.numpy())\n",
        "  print(\"\".join(ind_to_char[input_txt.numpy()]))\n",
        "  print('\\n')\n",
        "  print(target_txt.numpy())\n",
        "  print(\"\".join(ind_to_char[target_txt.numpy()]))"
      ],
      "execution_count": 17,
      "outputs": [
        {
          "output_type": "stream",
          "text": [
            "[48 64 61  1 44 74 71 66 61 59 76  1 35 77 76 61 70 58 61 74 63  1 33 30\n",
            " 71 71 67  1 71 62  1 48 64 61  1 39 65 70 63  1 38 57 69 61 75  1 30 65\n",
            " 58 68 61  0  0  0 10 10 10 10 10 10 10 10 10 10 10 10 10 10 10 10 10 10\n",
            " 10 10 10 10 10 10 10 10 10 10 10 10 10 10 10 10 10 10 10 10 10 10 10 10\n",
            " 10 10 10 10 10 10 10 10 10 10 10 10 10 10 10 10 10 10 10 10 10 10 10 10\n",
            " 10 10 10 10  0 33 30 43 43 39  1  8  4 16 15  9  1 51 29 47  1 43 42 33\n",
            "  1 43]\n",
            "The Project Gutenberg EBook of The King James Bible\n",
            "\n",
            "\n",
            "**********************************************************************\n",
            "EBOOK (#10) WAS ONE O\n",
            "\n",
            "\n",
            "[64 61  1 44 74 71 66 61 59 76  1 35 77 76 61 70 58 61 74 63  1 33 30 71\n",
            " 71 67  1 71 62  1 48 64 61  1 39 65 70 63  1 38 57 69 61 75  1 30 65 58\n",
            " 68 61  0  0  0 10 10 10 10 10 10 10 10 10 10 10 10 10 10 10 10 10 10 10\n",
            " 10 10 10 10 10 10 10 10 10 10 10 10 10 10 10 10 10 10 10 10 10 10 10 10\n",
            " 10 10 10 10 10 10 10 10 10 10 10 10 10 10 10 10 10 10 10 10 10 10 10 10\n",
            " 10 10 10  0 33 30 43 43 39  1  8  4 16 15  9  1 51 29 47  1 43 42 33  1\n",
            " 43 34]\n",
            "he Project Gutenberg EBook of The King James Bible\n",
            "\n",
            "\n",
            "**********************************************************************\n",
            "EBOOK (#10) WAS ONE OF\n"
          ],
          "name": "stdout"
        }
      ]
    },
    {
      "cell_type": "code",
      "metadata": {
        "id": "YjZzDLcTPA0T",
        "colab_type": "code",
        "outputId": "fab3fbdd-2c03-4815-83f9-529386525c8d",
        "colab": {
          "base_uri": "https://localhost:8080/",
          "height": 34
        }
      },
      "source": [
        "len(text)"
      ],
      "execution_count": 18,
      "outputs": [
        {
          "output_type": "execute_result",
          "data": {
            "text/plain": [
              "4352315"
            ]
          },
          "metadata": {
            "tags": []
          },
          "execution_count": 18
        }
      ]
    },
    {
      "cell_type": "code",
      "metadata": {
        "id": "Vc52ItNPJckp",
        "colab_type": "code",
        "colab": {}
      },
      "source": [
        "batch_size =150"
      ],
      "execution_count": 0,
      "outputs": []
    },
    {
      "cell_type": "code",
      "metadata": {
        "id": "gppsUCDSJlAH",
        "colab_type": "code",
        "colab": {}
      },
      "source": [
        "buffer_size = 10000\n",
        "\n",
        "\n",
        "dataset = dataset.shuffle(buffer_size).batch(batch_size,drop_remainder=True)"
      ],
      "execution_count": 0,
      "outputs": []
    },
    {
      "cell_type": "code",
      "metadata": {
        "id": "iKi8f4chJqAu",
        "colab_type": "code",
        "colab": {}
      },
      "source": [
        "vocab_size = len(vocab)"
      ],
      "execution_count": 0,
      "outputs": []
    },
    {
      "cell_type": "code",
      "metadata": {
        "id": "lg0QlvBRJ0pV",
        "colab_type": "code",
        "colab": {}
      },
      "source": [
        "embed_dim = 64"
      ],
      "execution_count": 0,
      "outputs": []
    },
    {
      "cell_type": "markdown",
      "metadata": {
        "id": "3o0kKpKsesn8",
        "colab_type": "text"
      },
      "source": [
        "prepare model"
      ]
    },
    {
      "cell_type": "code",
      "metadata": {
        "id": "7iRiPEyoJ2Cc",
        "colab_type": "code",
        "colab": {}
      },
      "source": [
        "rnn_neurons = 1026\n"
      ],
      "execution_count": 0,
      "outputs": []
    },
    {
      "cell_type": "code",
      "metadata": {
        "id": "Qyvg3GNFJ4CL",
        "colab_type": "code",
        "colab": {}
      },
      "source": [
        "from tensorflow.keras.losses import sparse_categorical_crossentropy"
      ],
      "execution_count": 0,
      "outputs": []
    },
    {
      "cell_type": "code",
      "metadata": {
        "id": "TCOtsYHMJ5p8",
        "colab_type": "code",
        "colab": {}
      },
      "source": [
        "def sparse_cat_loss(y_true,y_pred):\n",
        "  return sparse_categorical_crossentropy(y_true,y_pred,from_logits=True)"
      ],
      "execution_count": 0,
      "outputs": []
    },
    {
      "cell_type": "code",
      "metadata": {
        "id": "ALjgy2ACbW-_",
        "colab_type": "code",
        "colab": {}
      },
      "source": [
        "from tensorflow.keras.models import Sequential"
      ],
      "execution_count": 0,
      "outputs": []
    },
    {
      "cell_type": "code",
      "metadata": {
        "id": "9ZVP253FbXf2",
        "colab_type": "code",
        "colab": {}
      },
      "source": [
        "from tensorflow.keras.layers import Embedding,GRU,Dense,LSTM"
      ],
      "execution_count": 0,
      "outputs": []
    },
    {
      "cell_type": "code",
      "metadata": {
        "id": "YDDs7p4sJ79z",
        "colab_type": "code",
        "colab": {}
      },
      "source": [
        "def create_model(vocab_size,embed_dim,rnn_neurons,batch_size):\n",
        "\n",
        "  model = Sequential()\n",
        "  model.add(Embedding(vocab_size,embed_dim,batch_input_shape=[batch_size,None]))\n",
        "  model.add(GRU(rnn_neurons,return_sequences=True,\n",
        "                stateful=True,recurrent_initializer='glorot_uniform'))\n",
        "  model.add(Dense(vocab_size))\n",
        "  model.compile('adam',loss=sparse_cat_loss)\n",
        "\n",
        "  return model\n",
        "\n",
        "model = create_model(vocab_size=vocab_size,embed_dim=embed_dim,rnn_neurons=rnn_neurons,batch_size=batch_size)"
      ],
      "execution_count": 0,
      "outputs": []
    },
    {
      "cell_type": "code",
      "metadata": {
        "id": "eDukXgYVKDPq",
        "colab_type": "code",
        "outputId": "5f6346f4-3d06-4f98-df4c-0df6300245d8",
        "colab": {
          "base_uri": "https://localhost:8080/",
          "height": 255
        }
      },
      "source": [
        "model.summary()"
      ],
      "execution_count": 29,
      "outputs": [
        {
          "output_type": "stream",
          "text": [
            "Model: \"sequential\"\n",
            "_________________________________________________________________\n",
            "Layer (type)                 Output Shape              Param #   \n",
            "=================================================================\n",
            "embedding (Embedding)        (150, None, 64)           5312      \n",
            "_________________________________________________________________\n",
            "gru (GRU)                    (150, None, 1026)         3361176   \n",
            "_________________________________________________________________\n",
            "dense (Dense)                (150, None, 83)           85241     \n",
            "=================================================================\n",
            "Total params: 3,451,729\n",
            "Trainable params: 3,451,729\n",
            "Non-trainable params: 0\n",
            "_________________________________________________________________\n"
          ],
          "name": "stdout"
        }
      ]
    },
    {
      "cell_type": "markdown",
      "metadata": {
        "id": "URcfuyB8ewqV",
        "colab_type": "text"
      },
      "source": [
        "run model"
      ]
    },
    {
      "cell_type": "code",
      "metadata": {
        "id": "BTt6P2K9L7Nz",
        "colab_type": "code",
        "colab": {}
      },
      "source": [
        "epochs = 5"
      ],
      "execution_count": 0,
      "outputs": []
    },
    {
      "cell_type": "code",
      "metadata": {
        "id": "D63nL76iKysz",
        "colab_type": "code",
        "colab": {}
      },
      "source": [
        "model.fit(dataset,epochs=epochs)"
      ],
      "execution_count": 0,
      "outputs": []
    },
    {
      "cell_type": "markdown",
      "metadata": {
        "id": "2_Qgc8zZey7b",
        "colab_type": "text"
      },
      "source": [
        "save model and tools"
      ]
    },
    {
      "cell_type": "code",
      "metadata": {
        "id": "SyOsZPbbcwHh",
        "colab_type": "code",
        "colab": {}
      },
      "source": [
        "joblib.dump(ind_to_char,\"ind_to_char.pkl\")\n",
        "joblib.dump(char_to_ind,\"char_to_ind.pkl\")\n",
        "model.save(\"model.h5\")\n"
      ],
      "execution_count": 0,
      "outputs": []
    }
  ]
}